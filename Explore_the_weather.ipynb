{
 "cells": [
  {
   "cell_type": "markdown",
   "metadata": {},
   "source": [
    "# 探索未来气候发展趋势"
   ]
  },
  {
   "cell_type": "markdown",
   "metadata": {},
   "source": [
    "## 概述\n",
    "数据可视化，分析本地和全球的气温数据，并比居住地的气温走向与全球气温走向。\n",
    "\n",
    "## 步骤\n",
    "+ 从数据库中 提取数据。\n",
    "  \n",
    "  1 编写 SQL 查询，提取城市**名古屋**数据，导出到 CSV 文件。\n",
    "  \n",
    "  2 编写 SQL 查询来提取**全球**数据，并导出到 CSV 文件。\n",
    "  \n",
    "  \n",
    "+ 创建线条图，将名古屋的气温与全球气温比较。ps.绘制**移动平均值**而不是年平均值，使线条平滑，使气温走向便于观察。\n",
    "\n",
    "\n",
    "+ 编写报告并存为pdf文件。\n"
   ]
  },
  {
   "cell_type": "code",
   "execution_count": null,
   "metadata": {},
   "outputs": [],
   "source": []
  }
 ],
 "metadata": {
  "kernelspec": {
   "display_name": "Python 3",
   "language": "python",
   "name": "python3"
  },
  "language_info": {
   "codemirror_mode": {
    "name": "ipython",
    "version": 3
   },
   "file_extension": ".py",
   "mimetype": "text/x-python",
   "name": "python",
   "nbconvert_exporter": "python",
   "pygments_lexer": "ipython3",
   "version": "3.6.4"
  }
 },
 "nbformat": 4,
 "nbformat_minor": 2
}
